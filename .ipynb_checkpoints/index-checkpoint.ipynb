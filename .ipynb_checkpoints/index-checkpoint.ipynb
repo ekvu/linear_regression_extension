{
 "cells": [
  {
   "cell_type": "markdown",
   "metadata": {
    "deletable": false,
    "editable": false,
    "nbgrader": {
     "cell_type": "markdown",
     "checksum": "160db7f545a41c1c2ad9ae1938848df1",
     "grade": false,
     "grade_id": "cell-3578a4f6a92df65d",
     "locked": true,
     "schema_version": 3,
     "solution": false,
     "task": false
    }
   },
   "source": [
    "# Linear Regression Checkpoint\n",
    "\n",
    "This checkpoint is designed to test your understanding of linear regression.\n",
    "\n",
    "Specifically, this will cover:\n",
    "\n",
    "* Creating simple and multiple linear regression models with StatsModels\n",
    "* Interpreting linear regression model metrics\n",
    "* Interpreting linear regression model parameters"
   ]
  },
  {
   "cell_type": "markdown",
   "metadata": {
    "deletable": false,
    "editable": false,
    "nbgrader": {
     "cell_type": "markdown",
     "checksum": "460adda9d0a182f5c982d705306e96de",
     "grade": false,
     "grade_id": "cell-c20eb151e05b7a00",
     "locked": true,
     "schema_version": 3,
     "solution": false,
     "task": false
    }
   },
   "source": [
    "## Your Task: Build Linear Regression Models to Predict Home Prices\n",
    "\n",
    "### Data Understanding\n",
    "\n",
    "You will be using the Ames Housing dataset, modeling the `SalePrice` using these numeric features:\n",
    "\n",
    "* `GrLivArea`: Above grade living area (square feet)\n",
    "* `GarageArea`: Size of garage (square feet)\n",
    "* `LotArea`: Lot size (square feet)\n",
    "* `LotFrontage`: Length of street connected to property (feet)"
   ]
  },
  {
   "cell_type": "code",
   "execution_count": 1,
   "metadata": {
    "deletable": false,
    "editable": false,
    "nbgrader": {
     "cell_type": "code",
     "checksum": "e01ea64915af1ba05d9853ede5645f26",
     "grade": false,
     "grade_id": "cell-0c2618a86ae14fdf",
     "locked": true,
     "schema_version": 3,
     "solution": false,
     "task": false
    }
   },
   "outputs": [
    {
     "data": {
      "text/html": [
       "<div>\n",
       "<style scoped>\n",
       "    .dataframe tbody tr th:only-of-type {\n",
       "        vertical-align: middle;\n",
       "    }\n",
       "\n",
       "    .dataframe tbody tr th {\n",
       "        vertical-align: top;\n",
       "    }\n",
       "\n",
       "    .dataframe thead th {\n",
       "        text-align: right;\n",
       "    }\n",
       "</style>\n",
       "<table border=\"1\" class=\"dataframe\">\n",
       "  <thead>\n",
       "    <tr style=\"text-align: right;\">\n",
       "      <th></th>\n",
       "      <th>SalePrice</th>\n",
       "      <th>GrLivArea</th>\n",
       "      <th>GarageArea</th>\n",
       "      <th>LotArea</th>\n",
       "      <th>LotFrontage</th>\n",
       "    </tr>\n",
       "    <tr>\n",
       "      <th>Id</th>\n",
       "      <th></th>\n",
       "      <th></th>\n",
       "      <th></th>\n",
       "      <th></th>\n",
       "      <th></th>\n",
       "    </tr>\n",
       "  </thead>\n",
       "  <tbody>\n",
       "    <tr>\n",
       "      <th>1</th>\n",
       "      <td>208500</td>\n",
       "      <td>1710</td>\n",
       "      <td>548</td>\n",
       "      <td>8450</td>\n",
       "      <td>65.0</td>\n",
       "    </tr>\n",
       "    <tr>\n",
       "      <th>2</th>\n",
       "      <td>181500</td>\n",
       "      <td>1262</td>\n",
       "      <td>460</td>\n",
       "      <td>9600</td>\n",
       "      <td>80.0</td>\n",
       "    </tr>\n",
       "    <tr>\n",
       "      <th>3</th>\n",
       "      <td>223500</td>\n",
       "      <td>1786</td>\n",
       "      <td>608</td>\n",
       "      <td>11250</td>\n",
       "      <td>68.0</td>\n",
       "    </tr>\n",
       "    <tr>\n",
       "      <th>4</th>\n",
       "      <td>140000</td>\n",
       "      <td>1717</td>\n",
       "      <td>642</td>\n",
       "      <td>9550</td>\n",
       "      <td>60.0</td>\n",
       "    </tr>\n",
       "    <tr>\n",
       "      <th>5</th>\n",
       "      <td>250000</td>\n",
       "      <td>2198</td>\n",
       "      <td>836</td>\n",
       "      <td>14260</td>\n",
       "      <td>84.0</td>\n",
       "    </tr>\n",
       "    <tr>\n",
       "      <th>...</th>\n",
       "      <td>...</td>\n",
       "      <td>...</td>\n",
       "      <td>...</td>\n",
       "      <td>...</td>\n",
       "      <td>...</td>\n",
       "    </tr>\n",
       "    <tr>\n",
       "      <th>1456</th>\n",
       "      <td>175000</td>\n",
       "      <td>1647</td>\n",
       "      <td>460</td>\n",
       "      <td>7917</td>\n",
       "      <td>62.0</td>\n",
       "    </tr>\n",
       "    <tr>\n",
       "      <th>1457</th>\n",
       "      <td>210000</td>\n",
       "      <td>2073</td>\n",
       "      <td>500</td>\n",
       "      <td>13175</td>\n",
       "      <td>85.0</td>\n",
       "    </tr>\n",
       "    <tr>\n",
       "      <th>1458</th>\n",
       "      <td>266500</td>\n",
       "      <td>2340</td>\n",
       "      <td>252</td>\n",
       "      <td>9042</td>\n",
       "      <td>66.0</td>\n",
       "    </tr>\n",
       "    <tr>\n",
       "      <th>1459</th>\n",
       "      <td>142125</td>\n",
       "      <td>1078</td>\n",
       "      <td>240</td>\n",
       "      <td>9717</td>\n",
       "      <td>68.0</td>\n",
       "    </tr>\n",
       "    <tr>\n",
       "      <th>1460</th>\n",
       "      <td>147500</td>\n",
       "      <td>1256</td>\n",
       "      <td>276</td>\n",
       "      <td>9937</td>\n",
       "      <td>75.0</td>\n",
       "    </tr>\n",
       "  </tbody>\n",
       "</table>\n",
       "<p>1460 rows × 5 columns</p>\n",
       "</div>"
      ],
      "text/plain": [
       "      SalePrice  GrLivArea  GarageArea  LotArea  LotFrontage\n",
       "Id                                                          \n",
       "1        208500       1710         548     8450         65.0\n",
       "2        181500       1262         460     9600         80.0\n",
       "3        223500       1786         608    11250         68.0\n",
       "4        140000       1717         642     9550         60.0\n",
       "5        250000       2198         836    14260         84.0\n",
       "...         ...        ...         ...      ...          ...\n",
       "1456     175000       1647         460     7917         62.0\n",
       "1457     210000       2073         500    13175         85.0\n",
       "1458     266500       2340         252     9042         66.0\n",
       "1459     142125       1078         240     9717         68.0\n",
       "1460     147500       1256         276     9937         75.0\n",
       "\n",
       "[1460 rows x 5 columns]"
      ]
     },
     "execution_count": 1,
     "metadata": {},
     "output_type": "execute_result"
    }
   ],
   "source": [
    "# Run this cell without changes\n",
    "\n",
    "import pandas as pd\n",
    "df = pd.read_csv(\"ames.csv\", index_col=0)\n",
    "df = df[[\"SalePrice\", \"GrLivArea\", \"GarageArea\", \"LotArea\", \"LotFrontage\"]].copy()\n",
    "df"
   ]
  },
  {
   "cell_type": "markdown",
   "metadata": {
    "deletable": false,
    "editable": false,
    "nbgrader": {
     "cell_type": "markdown",
     "checksum": "2013ecc110b2275622f8112c8d3034e9",
     "grade": false,
     "grade_id": "cell-b251b9dc9f044806",
     "locked": true,
     "schema_version": 3,
     "solution": false,
     "task": false
    }
   },
   "source": [
    "### Modeling\n",
    "\n",
    "You will apply an inferential modeling process using StatsModels. This means that you are trying to create the best model in terms of variance in `SalePrice` that is explained (i.e. r-squared), not RMSE or some other more user-friendly metric. For this reason you also will not use a train-test split.\n",
    "\n",
    "You will build **two models — one simple linear regression model and one multiple linear regresssion model** — then you will interpret the model summaries.\n",
    "\n",
    "There are two relevant components of interpreting the model summaries: model **metrics** such as r-squared and p-values, which tell you how well your model is fit to the data, and model **parameters** (intercept and coefficients), which tell you how the model is using the feature(s) to predict the target.\n",
    "\n",
    "### Requirements"
   ]
  },
  {
   "cell_type": "markdown",
   "metadata": {
    "deletable": false,
    "editable": false,
    "nbgrader": {
     "cell_type": "markdown",
     "checksum": "28616a8e09439d0fa43073ed999812ef",
     "grade": false,
     "grade_id": "cell-b60866e4db6c8525",
     "locked": true,
     "schema_version": 3,
     "solution": false,
     "task": false
    }
   },
   "source": [
    "## 1. Build a Simple Linear Regression Using StatsModels\n",
    "\n",
    "Below, we use the `.corr()` method to find which features are most correlated with `SalePrice`:"
   ]
  },
  {
   "cell_type": "code",
   "execution_count": 2,
   "metadata": {
    "deletable": false,
    "editable": false,
    "nbgrader": {
     "cell_type": "code",
     "checksum": "e08c48970c91521ca12abd2e783e620b",
     "grade": false,
     "grade_id": "cell-a7f9739ece571cd3",
     "locked": true,
     "schema_version": 3,
     "solution": false,
     "task": false
    }
   },
   "outputs": [
    {
     "data": {
      "text/plain": [
       "SalePrice      1.000000\n",
       "GrLivArea      0.708624\n",
       "GarageArea     0.623431\n",
       "LotArea        0.263843\n",
       "LotFrontage    0.351799\n",
       "Name: SalePrice, dtype: float64"
      ]
     },
     "execution_count": 2,
     "metadata": {},
     "output_type": "execute_result"
    }
   ],
   "source": [
    "# Run this cell without changes\n",
    "df.corr()[\"SalePrice\"]"
   ]
  },
  {
   "cell_type": "markdown",
   "metadata": {
    "deletable": false,
    "editable": false,
    "nbgrader": {
     "cell_type": "markdown",
     "checksum": "c0777f51c6419c4f9efdbc68ed724d1d",
     "grade": false,
     "grade_id": "cell-ea72d0fe82eed8a9",
     "locked": true,
     "schema_version": 3,
     "solution": false,
     "task": false
    }
   },
   "source": [
    "The `GrLivArea` feature has the highest correlation with `SalePrice`, so we will use it to build a simple linear regression model.\n",
    "\n",
    "Recall that the general structure of a StatsModels linear regression model is something like this:\n",
    "\n",
    "```python\n",
    "formula = 'y ~ x'\n",
    "model = ols(formula, df).fit()\n",
    "summary = model.summary()\n",
    "```\n",
    "\n",
    "Where `y` is the name of the target (dependent) variable, `x` is the name of the feature (independent) variable, and `df` is the dataframe containing both `y` and `x`.\n",
    "\n",
    "In the cell below, fill in the appropriate values to create and summarize a simple linear regression model where `SalePrice` is the target and `GrLivArea` is the feature."
   ]
  },
  {
   "cell_type": "code",
   "execution_count": null,
   "metadata": {
    "deletable": false,
    "nbgrader": {
     "cell_type": "code",
     "checksum": "e37c630c61e330928fb1132fba64961f",
     "grade": false,
     "grade_id": "cell-652f04adad36b12a",
     "locked": false,
     "schema_version": 3,
     "solution": true,
     "task": false
    }
   },
   "outputs": [],
   "source": [
    "from statsmodels.formula.api import ols\n",
    "\n",
    "# Replace None with appropriate code\n",
    "simple_formula = None\n",
    "simple_model = None\n",
    "simple_model_summary = None\n",
    "# your code here\n",
    "raise NotImplementedError\n",
    "simple_model_summary"
   ]
  },
  {
   "cell_type": "code",
   "execution_count": null,
   "metadata": {
    "deletable": false,
    "editable": false,
    "nbgrader": {
     "cell_type": "code",
     "checksum": "15e8ce4beb5f6ef9476b5384b9eafee8",
     "grade": true,
     "grade_id": "cell-7dd2ee8651ceae28",
     "locked": true,
     "points": 1,
     "schema_version": 3,
     "solution": false,
     "task": false
    }
   },
   "outputs": [],
   "source": [
    "import statsmodels\n",
    "\n",
    "# simple_model should be a model fit with 1 feature\n",
    "assert simple_model.df_model == 1\n",
    "\n",
    "# simple_model_summary should be a StatsModels model summary\n",
    "assert type(simple_model_summary) == statsmodels.iolib.summary.Summary\n",
    "\n",
    "# PUT ALL WORK FOR THE ABOVE QUESTION ABOVE THIS CELL\n",
    "# THIS UNALTERABLE CELL CONTAINS HIDDEN TESTS"
   ]
  },
  {
   "cell_type": "markdown",
   "metadata": {
    "deletable": false,
    "editable": false,
    "nbgrader": {
     "cell_type": "markdown",
     "checksum": "795ccaeff6ee082adada242ee62eaa03",
     "grade": false,
     "grade_id": "cell-6a16843c25dfd25c",
     "locked": true,
     "schema_version": 3,
     "solution": false,
     "task": false
    }
   },
   "source": [
    "## 2. Interpret Simple Linear Regression Model Metrics\n",
    "\n",
    "We want to know:\n",
    "\n",
    "1. How much of the variance is explained by this model? This is also known as the r-squared. Fill in `r_squared` with this value — a floating point number between 0 and 1.\n",
    "2. Is the model statistically significant at $\\alpha = 0.05$? This is determined by comparing the probability of the f-statistic to the alpha. Fill in `model_is_significant` with this value — either `True` or `False`.\n",
    "\n",
    "You can either just look at the print-out above and fill in the values, or you can use attributes of `simple_model` ([documentation here](https://www.statsmodels.org/devel/generated/statsmodels.regression.linear_model.RegressionResults.html)). If you are getting stuck, it's usually easier to type the answer in rather than writing code to do it."
   ]
  },
  {
   "cell_type": "code",
   "execution_count": null,
   "metadata": {
    "deletable": false,
    "nbgrader": {
     "cell_type": "code",
     "checksum": "a52155e7dd3d55b54770f65ed04145b7",
     "grade": false,
     "grade_id": "cell-58db32b0f8b50f61",
     "locked": false,
     "schema_version": 3,
     "solution": true,
     "task": false
    }
   },
   "outputs": [],
   "source": [
    "# Replace None with appropriate code\n",
    "r_squared = None\n",
    "model_is_significant = None\n",
    "# your code here\n",
    "raise NotImplementedError"
   ]
  },
  {
   "cell_type": "code",
   "execution_count": null,
   "metadata": {
    "deletable": false,
    "editable": false,
    "nbgrader": {
     "cell_type": "code",
     "checksum": "a9447fc7fdfc9d48ec5f3fd222bc71ff",
     "grade": true,
     "grade_id": "cell-3df92cb526f874ea",
     "locked": true,
     "points": 0.5,
     "schema_version": 3,
     "solution": false,
     "task": false
    }
   },
   "outputs": [],
   "source": [
    "import numpy as np\n",
    "\n",
    "# r_squared should be a floating point value between 0 and 1\n",
    "assert 0 <= r_squared and r_squared <= 1\n",
    "assert type(r_squared) == float or type(r_squared) == np.float64\n",
    "\n",
    "# PUT ALL WORK FOR THE ABOVE QUESTION ABOVE THIS CELL\n",
    "# THIS UNALTERABLE CELL CONTAINS HIDDEN TESTS"
   ]
  },
  {
   "cell_type": "code",
   "execution_count": null,
   "metadata": {
    "deletable": false,
    "editable": false,
    "nbgrader": {
     "cell_type": "code",
     "checksum": "000d41b50d6dbe7e71572e03b205878d",
     "grade": true,
     "grade_id": "cell-6822816e90525e07",
     "locked": true,
     "points": 0.5,
     "schema_version": 3,
     "solution": false,
     "task": false
    }
   },
   "outputs": [],
   "source": [
    "# model_is_significant should be True or False\n",
    "assert model_is_significant == True or model_is_significant == False\n",
    "\n",
    "# PUT ALL WORK FOR THE ABOVE QUESTION ABOVE THIS CELL\n",
    "# THIS UNALTERABLE CELL CONTAINS HIDDEN TESTS"
   ]
  },
  {
   "cell_type": "markdown",
   "metadata": {
    "deletable": false,
    "editable": false,
    "nbgrader": {
     "cell_type": "markdown",
     "checksum": "11dc25bc5666989e9db0c876f8abcfd8",
     "grade": false,
     "grade_id": "cell-ce249a1b0434aa5b",
     "locked": true,
     "schema_version": 3,
     "solution": false,
     "task": false
    }
   },
   "source": [
    "## 3. Interpret Simple Linear Regression Parameters\n",
    "\n",
    "Now, we want to know what relationship the model has found between the feature and the target. Because this is a simple linear regression, it follows the format of $y = mx + b$ where $y$ is the `SalePrice`, $m$ is the slope of `GrLivArea`, $x$ is `GrLivArea`, and $b$ is the y-intercept (the value of $y$ when $x$ is 0).\n",
    "\n",
    "In the cell below, fill in appropriate values for `m` and `b`. Again, you can use the print-out above or use attributes of `simple_model`."
   ]
  },
  {
   "cell_type": "code",
   "execution_count": null,
   "metadata": {
    "deletable": false,
    "nbgrader": {
     "cell_type": "code",
     "checksum": "4feea354c4b09af171ffef2ddbffe72d",
     "grade": false,
     "grade_id": "cell-e75986c4e6645412",
     "locked": false,
     "schema_version": 3,
     "solution": true,
     "task": false
    }
   },
   "outputs": [],
   "source": [
    "# Replace None with appropriate code\n",
    "\n",
    "# Slope (coefficient of GrLivArea)\n",
    "m = None\n",
    "\n",
    "# Intercept (coefficient of Intercept)\n",
    "b = None\n",
    "\n",
    "# your code here\n",
    "raise NotImplementedError\n",
    "\n",
    "print(f\"\"\"\n",
    "Our simple linear regression model found a y-intercept\n",
    "of ${round(b, 2)}, then for every increase of 1 square foot\n",
    "above-ground living area, the price increases by ${round(m, 2)} \n",
    "\"\"\")"
   ]
  },
  {
   "cell_type": "code",
   "execution_count": null,
   "metadata": {
    "deletable": false,
    "editable": false,
    "nbgrader": {
     "cell_type": "code",
     "checksum": "bbeb258f4ee94ed4bc9bf633a8c807c9",
     "grade": true,
     "grade_id": "cell-37315757b2ac6e4c",
     "locked": true,
     "points": 0.5,
     "schema_version": 3,
     "solution": false,
     "task": false
    }
   },
   "outputs": [],
   "source": [
    "from numbers import Number\n",
    "\n",
    "# m should be a number\n",
    "assert isinstance(m, Number)\n",
    "\n",
    "# PUT ALL WORK FOR THE ABOVE QUESTION ABOVE THIS CELL\n",
    "# THIS UNALTERABLE CELL CONTAINS HIDDEN TESTS"
   ]
  },
  {
   "cell_type": "code",
   "execution_count": null,
   "metadata": {
    "deletable": false,
    "editable": false,
    "nbgrader": {
     "cell_type": "code",
     "checksum": "479afb36fd7abc131885cb051606c96a",
     "grade": true,
     "grade_id": "cell-60df76839beb17a6",
     "locked": true,
     "points": 0.5,
     "schema_version": 3,
     "solution": false,
     "task": false
    }
   },
   "outputs": [],
   "source": [
    "# b should be a number\n",
    "assert isinstance(b, Number)\n",
    "\n",
    "# PUT ALL WORK FOR THE ABOVE QUESTION ABOVE THIS CELL\n",
    "# THIS UNALTERABLE CELL CONTAINS HIDDEN TESTS"
   ]
  },
  {
   "cell_type": "markdown",
   "metadata": {},
   "source": [
    "# Sklearn Implementation - skip"
   ]
  },
  {
   "cell_type": "markdown",
   "metadata": {},
   "source": [
    "Statsmodels.formula.api is great because it gives us such wonderful summary output.  But, as we move through the course, we will rely more on Sklearn's machine learning models.\n",
    "\n",
    "Recreate the above simple linear regression with sklearn."
   ]
  },
  {
   "cell_type": "code",
   "execution_count": null,
   "metadata": {},
   "outputs": [],
   "source": [
    "# import LinearRegression from sklearn.linear_model\n",
    "\n",
    "# Instantiate a LinearRegression object and assign it to the variable `lr`\n",
    "lr = None\n",
    "\n"
   ]
  },
  {
   "cell_type": "markdown",
   "metadata": {},
   "source": [
    "Unlike `statsmodels.formula.api.ols`, sklearn models, we have to separate the target from the features.  \n",
    "\n"
   ]
  },
  {
   "cell_type": "code",
   "execution_count": null,
   "metadata": {},
   "outputs": [],
   "source": [
    "# Assign the target to `y`, and the feature to `X`. \n",
    "y = None\n",
    "X = None\n",
    "\n",
    "# Note: y can be a series, X should be a dataframe.\n"
   ]
  },
  {
   "cell_type": "code",
   "execution_count": null,
   "metadata": {},
   "outputs": [],
   "source": [
    "# Fit the lr object to X and y\n"
   ]
  },
  {
   "cell_type": "markdown",
   "metadata": {},
   "source": [
    "The fit `lr` object now has attributes `.coef_` and `.intercept_`. Using dot-notation chained off the lr object, confirm that sklearn and statsmodels creates the same fit."
   ]
  },
  {
   "cell_type": "code",
   "execution_count": null,
   "metadata": {},
   "outputs": [],
   "source": [
    "# your code here"
   ]
  },
  {
   "cell_type": "markdown",
   "metadata": {},
   "source": [
    "The fit `lr` object now has attributes `score()` method which takes `X` and `y` as arguments..  Call that method using .dot-notation below.  What does .score() return?"
   ]
  },
  {
   "cell_type": "code",
   "execution_count": null,
   "metadata": {},
   "outputs": [],
   "source": [
    "# Your code here"
   ]
  },
  {
   "cell_type": "markdown",
   "metadata": {
    "deletable": false,
    "editable": false,
    "nbgrader": {
     "cell_type": "markdown",
     "checksum": "8a1803416df4478647c9c8265ed52bf4",
     "grade": false,
     "grade_id": "cell-99898204e2a83336",
     "locked": true,
     "schema_version": 3,
     "solution": false,
     "task": false
    }
   },
   "source": [
    "## 3. Build a Multiple Regression Model Using StatsModels\n",
    "\n",
    "Now, build a model that contains all of the features present in `df`. Recall that the general process for building a multiple regression model is something like this:\n",
    "\n",
    "```python\n",
    "formula = 'y ~ x_1 + x_2 + x_3'\n",
    "model = ols(formula, df).fit()\n",
    "summary = model.summary()\n",
    "```\n",
    "\n",
    "Where `y` and `df` are the same as in the previous example, but now there are multiple features represented by `x_1`, `x_2`, `x_3`, etc.\n",
    "\n",
    "Specifically, your model should have `SalePrice` as the target, and these columns as features:\n",
    "\n",
    "* `GrLivArea`\n",
    "* `GarageArea`\n",
    "* `LotArea`\n",
    "* `LotFrontage`"
   ]
  },
  {
   "cell_type": "code",
   "execution_count": null,
   "metadata": {
    "deletable": false,
    "nbgrader": {
     "cell_type": "code",
     "checksum": "90f681961f983528c8cc5aaf8300508d",
     "grade": false,
     "grade_id": "cell-bd6e3935a342ed4b",
     "locked": false,
     "schema_version": 3,
     "solution": true,
     "task": false
    }
   },
   "outputs": [],
   "source": [
    "# Replace None with appropriate code\n",
    "multiple_formula = None\n",
    "multiple_model = None\n",
    "multiple_model_summary = None\n",
    "# your code here\n",
    "raise NotImplementedError\n",
    "multiple_model_summary"
   ]
  },
  {
   "cell_type": "markdown",
   "metadata": {},
   "source": [
    "# Scaling - skip\n",
    "\n",
    "For linear regression, scaling the independent variables will not change the quality of the model.  I.E., r^2 will remain constant.\n",
    "\n",
    "In the next few cells, we will confirm this is true.\n",
    "\n"
   ]
  },
  {
   "cell_type": "code",
   "execution_count": null,
   "metadata": {},
   "outputs": [],
   "source": [
    "# Import the `StandardScaler` from `sklearn.preprocessing` \n"
   ]
  },
  {
   "cell_type": "code",
   "execution_count": null,
   "metadata": {},
   "outputs": [],
   "source": [
    "# Instantiate a StandardScaler object and assign it to ss\n",
    "\n",
    "ss = None"
   ]
  },
  {
   "cell_type": "markdown",
   "metadata": {},
   "source": [
    "The ss object has a method .fit_transform() which takes a dataframe of independent features as an argument.  \n"
   ]
  },
  {
   "cell_type": "code",
   "execution_count": null,
   "metadata": {},
   "outputs": [],
   "source": [
    "# Assign a dataframe of the dependent features we used above to X and assign the target to y\n",
    "\n",
    "X = None\n",
    "y = None"
   ]
  },
  {
   "cell_type": "code",
   "execution_count": null,
   "metadata": {},
   "outputs": [],
   "source": [
    "# pass X as an argument to the fit_transform() method call from the ss object"
   ]
  },
  {
   "cell_type": "code",
   "execution_count": null,
   "metadata": {},
   "outputs": [],
   "source": [
    "scaled_features = None"
   ]
  },
  {
   "cell_type": "code",
   "execution_count": null,
   "metadata": {},
   "outputs": [],
   "source": [
    "# Once you have scaled your features, run this cell to prepare the dataframe for statsmodels.formula.api\n",
    "scaled_feature_df= pd.DataFrame(scaled_features, columns = df.columns[1:], index=df.index)\n",
    "scaled_df = scaled_feature_df.insert(0,0,y )\n",
    "scaled_df.rename({0:'SalePrice'}, axis=1,inplace=True)\n",
    "scaled_df.head()"
   ]
  },
  {
   "cell_type": "code",
   "execution_count": null,
   "metadata": {},
   "outputs": [],
   "source": [
    "# Now, rewrite your code you used to fit your statsmodels multiple regression model\n",
    "# substituting scaled_df for df.  \n",
    "\n",
    "# your code here"
   ]
  },
  {
   "cell_type": "code",
   "execution_count": null,
   "metadata": {},
   "outputs": [],
   "source": [
    "# confirm that r^2 has not changed.\n",
    "\n",
    "# your code here"
   ]
  },
  {
   "cell_type": "markdown",
   "metadata": {
    "deletable": false,
    "editable": false,
    "nbgrader": {
     "cell_type": "markdown",
     "checksum": "6a5c156d8657ff7eb3c7a366232918eb",
     "grade": false,
     "grade_id": "cell-21fd65acb59f4dc2",
     "locked": true,
     "schema_version": 3,
     "solution": false,
     "task": false
    }
   },
   "source": [
    "## 4. Interpret Multiple Regression Model Metrics\n",
    "\n",
    "Now we want to know: **is our multiple linear regression model a better fit than our simple linear regression model? We'll measure this in terms of percentage of variance explained (r-squared)**, where a higher r-squared indicates a better fit.\n",
    "\n",
    "Replace `second_model_is_better` with either `True` if this model is better, or `False` if the previous model was better (or the two models are exactly the same)."
   ]
  },
  {
   "cell_type": "code",
   "execution_count": null,
   "metadata": {
    "deletable": false,
    "nbgrader": {
     "cell_type": "code",
     "checksum": "43dd8c18916715869b75dfe019c5ae61",
     "grade": false,
     "grade_id": "cell-f0746c6b33a4592d",
     "locked": false,
     "schema_version": 3,
     "solution": true,
     "task": false
    }
   },
   "outputs": [],
   "source": [
    "# Replace None with appropriate code\n",
    "second_model_is_better = None\n",
    "# your code here\n",
    "raise NotImplementedError"
   ]
  },
  {
   "cell_type": "code",
   "execution_count": null,
   "metadata": {
    "deletable": false,
    "editable": false,
    "nbgrader": {
     "cell_type": "code",
     "checksum": "73096fd90093a08084cf02adde8657be",
     "grade": true,
     "grade_id": "cell-e28e2c101115d10b",
     "locked": true,
     "points": 1,
     "schema_version": 3,
     "solution": false,
     "task": false
    }
   },
   "outputs": [],
   "source": [
    "# second_model_is_better should be True or False\n",
    "assert second_model_is_better == True or second_model_is_better == False\n",
    "\n",
    "# PUT ALL WORK FOR THE ABOVE QUESTION ABOVE THIS CELL\n",
    "# THIS UNALTERABLE CELL CONTAINS HIDDEN TESTS"
   ]
  },
  {
   "cell_type": "markdown",
   "metadata": {
    "deletable": false,
    "editable": false,
    "nbgrader": {
     "cell_type": "markdown",
     "checksum": "3d144e7e367dabbead0cde190cf7b0a4",
     "grade": false,
     "grade_id": "cell-0475c4a1b851ba21",
     "locked": true,
     "schema_version": 3,
     "solution": false,
     "task": false
    }
   },
   "source": [
    "**If we need to drop one feature from this model, which should it be?** Consider the p-values in the print-out above, as well as the correlations shown below."
   ]
  },
  {
   "cell_type": "code",
   "execution_count": null,
   "metadata": {
    "deletable": false,
    "editable": false,
    "nbgrader": {
     "cell_type": "code",
     "checksum": "b3e7e63eaeb21803f1aa9f9171558ae8",
     "grade": false,
     "grade_id": "cell-33a8bea9364bc775",
     "locked": true,
     "schema_version": 3,
     "solution": false,
     "task": false
    }
   },
   "outputs": [],
   "source": [
    "# Run this cell without changes\n",
    "\n",
    "# Showing the average correlation with other features\n",
    "# (including itself). This does NOT include correlations\n",
    "# with SalePrice, only with other features\n",
    "correlations = df.drop(\"SalePrice\", axis=1).corr().sum() / 4\n",
    "correlations"
   ]
  },
  {
   "cell_type": "markdown",
   "metadata": {
    "deletable": false,
    "editable": false,
    "nbgrader": {
     "cell_type": "markdown",
     "checksum": "f901908964ca282b4711dfa0926c7208",
     "grade": false,
     "grade_id": "cell-18ddedc7874e23e3",
     "locked": true,
     "schema_version": 3,
     "solution": false,
     "task": false
    }
   },
   "source": [
    "Replace `feature_to_drop` with the name of the features, which should be one of these four:\n",
    "\n",
    "* `GrLivArea`\n",
    "* `GarageArea`\n",
    "* `LotArea`\n",
    "* `LotFrontage`"
   ]
  },
  {
   "cell_type": "code",
   "execution_count": null,
   "metadata": {
    "deletable": false,
    "nbgrader": {
     "cell_type": "code",
     "checksum": "7ec7f989e63ba618309611347fa2da74",
     "grade": false,
     "grade_id": "cell-9822a93057158dfd",
     "locked": false,
     "schema_version": 3,
     "solution": true,
     "task": false
    }
   },
   "outputs": [],
   "source": [
    "# Replace None with appropriate code\n",
    "feature_to_drop = None\n",
    "# your code here\n",
    "raise NotImplementedError"
   ]
  },
  {
   "cell_type": "code",
   "execution_count": null,
   "metadata": {
    "deletable": false,
    "editable": false,
    "nbgrader": {
     "cell_type": "code",
     "checksum": "184e0be7ef9a242e304b483b0a740bfa",
     "grade": true,
     "grade_id": "cell-0d95ff56e49564a3",
     "locked": true,
     "points": 1,
     "schema_version": 3,
     "solution": false,
     "task": false
    }
   },
   "outputs": [],
   "source": [
    "# feature_to_drop should be a string\n",
    "assert type(feature_to_drop) == str\n",
    "\n",
    "# It should be one of the features in df\n",
    "assert feature_to_drop in df.columns\n",
    "\n",
    "# PUT ALL WORK FOR THE ABOVE QUESTION ABOVE THIS CELL\n",
    "# THIS UNALTERABLE CELL CONTAINS HIDDEN TESTS"
   ]
  }
 ],
 "metadata": {
  "kernelspec": {
   "display_name": "Python 3",
   "language": "python",
   "name": "python3"
  },
  "language_info": {
   "codemirror_mode": {
    "name": "ipython",
    "version": 3
   },
   "file_extension": ".py",
   "mimetype": "text/x-python",
   "name": "python",
   "nbconvert_exporter": "python",
   "pygments_lexer": "ipython3",
   "version": "3.8.5"
  }
 },
 "nbformat": 4,
 "nbformat_minor": 4
}
